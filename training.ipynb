{
 "cells": [
  {
   "cell_type": "markdown",
   "metadata": {},
   "source": [
    "# Start"
   ]
  },
  {
   "cell_type": "code",
   "execution_count": 2,
   "metadata": {},
   "outputs": [
    {
     "data": {
      "text/html": [
       "<div>\n",
       "<style scoped>\n",
       "    .dataframe tbody tr th:only-of-type {\n",
       "        vertical-align: middle;\n",
       "    }\n",
       "\n",
       "    .dataframe tbody tr th {\n",
       "        vertical-align: top;\n",
       "    }\n",
       "\n",
       "    .dataframe thead th {\n",
       "        text-align: right;\n",
       "    }\n",
       "</style>\n",
       "<table border=\"1\" class=\"dataframe\">\n",
       "  <thead>\n",
       "    <tr style=\"text-align: right;\">\n",
       "      <th></th>\n",
       "      <th>Unnamed: 0</th>\n",
       "      <th>Survived</th>\n",
       "      <th>Pclass</th>\n",
       "      <th>Sex</th>\n",
       "      <th>Age</th>\n",
       "      <th>SibSp</th>\n",
       "      <th>Parch</th>\n",
       "      <th>Fare</th>\n",
       "      <th>Embarked</th>\n",
       "      <th>Sex_encoded</th>\n",
       "      <th>Embarked_encoded</th>\n",
       "      <th>Age_categorized</th>\n",
       "    </tr>\n",
       "  </thead>\n",
       "  <tbody>\n",
       "    <tr>\n",
       "      <th>0</th>\n",
       "      <td>0</td>\n",
       "      <td>0</td>\n",
       "      <td>3</td>\n",
       "      <td>male</td>\n",
       "      <td>22.0</td>\n",
       "      <td>1</td>\n",
       "      <td>0</td>\n",
       "      <td>7.2500</td>\n",
       "      <td>S</td>\n",
       "      <td>1</td>\n",
       "      <td>2</td>\n",
       "      <td>2</td>\n",
       "    </tr>\n",
       "    <tr>\n",
       "      <th>1</th>\n",
       "      <td>1</td>\n",
       "      <td>1</td>\n",
       "      <td>1</td>\n",
       "      <td>female</td>\n",
       "      <td>38.0</td>\n",
       "      <td>1</td>\n",
       "      <td>0</td>\n",
       "      <td>71.2833</td>\n",
       "      <td>C</td>\n",
       "      <td>0</td>\n",
       "      <td>0</td>\n",
       "      <td>2</td>\n",
       "    </tr>\n",
       "    <tr>\n",
       "      <th>2</th>\n",
       "      <td>2</td>\n",
       "      <td>1</td>\n",
       "      <td>3</td>\n",
       "      <td>female</td>\n",
       "      <td>26.0</td>\n",
       "      <td>0</td>\n",
       "      <td>0</td>\n",
       "      <td>7.9250</td>\n",
       "      <td>S</td>\n",
       "      <td>0</td>\n",
       "      <td>2</td>\n",
       "      <td>2</td>\n",
       "    </tr>\n",
       "    <tr>\n",
       "      <th>3</th>\n",
       "      <td>3</td>\n",
       "      <td>1</td>\n",
       "      <td>1</td>\n",
       "      <td>female</td>\n",
       "      <td>35.0</td>\n",
       "      <td>1</td>\n",
       "      <td>0</td>\n",
       "      <td>53.1000</td>\n",
       "      <td>S</td>\n",
       "      <td>0</td>\n",
       "      <td>2</td>\n",
       "      <td>2</td>\n",
       "    </tr>\n",
       "    <tr>\n",
       "      <th>4</th>\n",
       "      <td>4</td>\n",
       "      <td>0</td>\n",
       "      <td>3</td>\n",
       "      <td>male</td>\n",
       "      <td>35.0</td>\n",
       "      <td>0</td>\n",
       "      <td>0</td>\n",
       "      <td>8.0500</td>\n",
       "      <td>S</td>\n",
       "      <td>1</td>\n",
       "      <td>2</td>\n",
       "      <td>2</td>\n",
       "    </tr>\n",
       "  </tbody>\n",
       "</table>\n",
       "</div>"
      ],
      "text/plain": [
       "   Unnamed: 0  Survived  Pclass     Sex   Age  SibSp  Parch     Fare Embarked  \\\n",
       "0           0         0       3    male  22.0      1      0   7.2500        S   \n",
       "1           1         1       1  female  38.0      1      0  71.2833        C   \n",
       "2           2         1       3  female  26.0      0      0   7.9250        S   \n",
       "3           3         1       1  female  35.0      1      0  53.1000        S   \n",
       "4           4         0       3    male  35.0      0      0   8.0500        S   \n",
       "\n",
       "   Sex_encoded  Embarked_encoded  Age_categorized  \n",
       "0            1                 2                2  \n",
       "1            0                 0                2  \n",
       "2            0                 2                2  \n",
       "3            0                 2                2  \n",
       "4            1                 2                2  "
      ]
     },
     "execution_count": 2,
     "metadata": {},
     "output_type": "execute_result"
    }
   ],
   "source": [
    "import pandas as pd\n",
    "\n",
    "df = pd.read_csv(\"clean_train.csv\")\n",
    "df.head()"
   ]
  },
  {
   "cell_type": "markdown",
   "metadata": {},
   "source": [
    "# Get x and y"
   ]
  },
  {
   "cell_type": "code",
   "execution_count": 3,
   "metadata": {},
   "outputs": [],
   "source": [
    "# Creating multiple X and choosing the best X based on scoring\n",
    "x1 = df[[\"Pclass\", \"Age_categorized\", \"SibSp\", \"Parch\", \"Sex_encoded\", \"Embarked_encoded\"]]\n",
    "x2 = df[[\"Pclass\", \"Age_categorized\", \"Parch\", \"Sex_encoded\", \"Embarked_encoded\"]]\n",
    "x3 = df[[\"Pclass\", \"Age_categorized\", \"SibSp\", \"Sex_encoded\", \"Embarked_encoded\"]]\n",
    "x4 = df[[\"Pclass\", \"Age_categorized\", \"Sex_encoded\", \"Embarked_encoded\"]]\n",
    "x5 = df[[\"Pclass\", \"Age_categorized\", \"Sex_encoded\"]]\n",
    "\n",
    "y = df[\"Survived\"]"
   ]
  },
  {
   "cell_type": "markdown",
   "metadata": {},
   "source": [
    "# Choosing the best X and model to use"
   ]
  },
  {
   "cell_type": "code",
   "execution_count": 4,
   "metadata": {},
   "outputs": [],
   "source": [
    "from sklearn.model_selection import cross_val_score\n",
    "\n",
    "from sklearn.linear_model import LogisticRegression\n",
    "from sklearn.ensemble import RandomForestClassifier\n",
    "from sklearn.svm import SVC"
   ]
  },
  {
   "cell_type": "code",
   "execution_count": 5,
   "metadata": {},
   "outputs": [
    {
     "name": "stdout",
     "output_type": "stream",
     "text": [
      "\n",
      "Columns = Index(['Pclass', 'Age_categorized', 'SibSp', 'Parch', 'Sex_encoded',\n",
      "       'Embarked_encoded'],\n",
      "      dtype='object')\n",
      "\n",
      "Logisctic regression scores:\n",
      "    [0.78888889 0.78651685 0.7752809  0.83146067 0.80898876 0.80898876\n",
      " 0.79775281 0.79775281 0.83146067 0.78651685]\n",
      "    Mean score: 0.8013607990012485\n",
      "\n",
      "Random forest classifier scores:\n",
      "    [0.72222222 0.80898876 0.7752809  0.85393258 0.80898876 0.79775281\n",
      " 0.79775281 0.78651685 0.82022472 0.82022472]\n",
      "    Mean score: 0.7991885143570536\n",
      "\n",
      "SVC scores:\n",
      "    [0.81111111 0.83146067 0.7752809  0.85393258 0.84269663 0.78651685\n",
      " 0.83146067 0.78651685 0.82022472 0.84269663]\n",
      "    Mean score: 0.8181897627965045\n",
      "\n"
     ]
    }
   ],
   "source": [
    "lr_scores = cross_val_score(LogisticRegression(), x1, y, cv=10)\n",
    "rfc_scores = cross_val_score(RandomForestClassifier(), x1, y, cv=10)\n",
    "svc_scores = cross_val_score(SVC(), x1, y, cv=10)\n",
    "\n",
    "print(f\"\"\"\n",
    "Columns = {x1.columns}\n",
    "\n",
    "Logisctic regression scores:\n",
    "    {lr_scores}\n",
    "    Mean score: {lr_scores.mean()}\n",
    "\n",
    "Random forest classifier scores:\n",
    "    {rfc_scores}\n",
    "    Mean score: {rfc_scores.mean()}\n",
    "\n",
    "SVC scores:\n",
    "    {svc_scores}\n",
    "    Mean score: {svc_scores.mean()}\n",
    "\"\"\")"
   ]
  },
  {
   "cell_type": "code",
   "execution_count": 6,
   "metadata": {},
   "outputs": [
    {
     "name": "stdout",
     "output_type": "stream",
     "text": [
      "\n",
      "Columns = Index(['Pclass', 'Age_categorized', 'Parch', 'Sex_encoded',\n",
      "       'Embarked_encoded'],\n",
      "      dtype='object')\n",
      "\n",
      "Logisctic regression scores:\n",
      "    [0.76666667 0.80898876 0.78651685 0.84269663 0.78651685 0.7752809\n",
      " 0.79775281 0.79775281 0.83146067 0.82022472]\n",
      "    Mean score: 0.801385767790262\n",
      "\n",
      "Random forest classifier scores:\n",
      "    [0.76666667 0.78651685 0.78651685 0.85393258 0.84269663 0.79775281\n",
      " 0.82022472 0.7752809  0.82022472 0.82022472]\n",
      "    Mean score: 0.8070037453183521\n",
      "\n",
      "SVC scores:\n",
      "    [0.78888889 0.80898876 0.7752809  0.86516854 0.84269663 0.7752809\n",
      " 0.83146067 0.7752809  0.80898876 0.78651685]\n",
      "    Mean score: 0.8058551810237203\n",
      "\n"
     ]
    }
   ],
   "source": [
    "lr_scores = cross_val_score(LogisticRegression(), x2, y, cv=10)\n",
    "rfc_scores = cross_val_score(RandomForestClassifier(), x2, y, cv=10)\n",
    "svc_scores = cross_val_score(SVC(), x2, y, cv=10)\n",
    "\n",
    "print(f\"\"\"\n",
    "Columns = {x2.columns}\n",
    "\n",
    "Logisctic regression scores:\n",
    "    {lr_scores}\n",
    "    Mean score: {lr_scores.mean()}\n",
    "\n",
    "Random forest classifier scores:\n",
    "    {rfc_scores}\n",
    "    Mean score: {rfc_scores.mean()}\n",
    "\n",
    "SVC scores:\n",
    "    {svc_scores}\n",
    "    Mean score: {svc_scores.mean()}\n",
    "\"\"\")"
   ]
  },
  {
   "cell_type": "code",
   "execution_count": 7,
   "metadata": {},
   "outputs": [
    {
     "name": "stdout",
     "output_type": "stream",
     "text": [
      "\n",
      "Columns = Index(['Pclass', 'Age_categorized', 'SibSp', 'Sex_encoded',\n",
      "       'Embarked_encoded'],\n",
      "      dtype='object')\n",
      "\n",
      "Logisctic regression scores:\n",
      "    [0.8        0.78651685 0.7752809  0.83146067 0.80898876 0.80898876\n",
      " 0.79775281 0.79775281 0.82022472 0.78651685]\n",
      "    Mean score: 0.8013483146067415\n",
      "\n",
      "Random forest classifier scores:\n",
      "    [0.72222222 0.78651685 0.7752809  0.85393258 0.79775281 0.7752809\n",
      " 0.80898876 0.7752809  0.79775281 0.78651685]\n",
      "    Mean score: 0.7879525593008739\n",
      "\n",
      "SVC scores:\n",
      "    [0.82222222 0.82022472 0.76404494 0.83146067 0.83146067 0.76404494\n",
      " 0.78651685 0.7752809  0.83146067 0.79775281]\n",
      "    Mean score: 0.8024469413233458\n",
      "\n"
     ]
    }
   ],
   "source": [
    "lr_scores = cross_val_score(LogisticRegression(), x3, y, cv=10)\n",
    "rfc_scores = cross_val_score(RandomForestClassifier(), x3, y, cv=10)\n",
    "svc_scores = cross_val_score(SVC(), x3, y, cv=10)\n",
    "\n",
    "print(f\"\"\"\n",
    "Columns = {x3.columns}\n",
    "\n",
    "Logisctic regression scores:\n",
    "    {lr_scores}\n",
    "    Mean score: {lr_scores.mean()}\n",
    "\n",
    "Random forest classifier scores:\n",
    "    {rfc_scores}\n",
    "    Mean score: {rfc_scores.mean()}\n",
    "\n",
    "SVC scores:\n",
    "    {svc_scores}\n",
    "    Mean score: {svc_scores.mean()}\n",
    "\"\"\")"
   ]
  },
  {
   "cell_type": "code",
   "execution_count": 8,
   "metadata": {},
   "outputs": [
    {
     "name": "stdout",
     "output_type": "stream",
     "text": [
      "\n",
      "Columns = Index(['Pclass', 'Age_categorized', 'Sex_encoded', 'Embarked_encoded'], dtype='object')\n",
      "\n",
      "Logisctic regression scores:\n",
      "    [0.78888889 0.80898876 0.7752809  0.86516854 0.78651685 0.7752809\n",
      " 0.7752809  0.79775281 0.83146067 0.78651685]\n",
      "    Mean score: 0.7991136079900124\n",
      "\n",
      "Random forest classifier scores:\n",
      "    [0.81111111 0.78651685 0.7752809  0.82022472 0.85393258 0.80898876\n",
      " 0.82022472 0.76404494 0.78651685 0.7752809 ]\n",
      "    Mean score: 0.8002122347066167\n",
      "\n",
      "SVC scores:\n",
      "    [0.82222222 0.78651685 0.78651685 0.86516854 0.86516854 0.79775281\n",
      " 0.80898876 0.76404494 0.82022472 0.80898876]\n",
      "    Mean score: 0.8125593008739076\n",
      "\n"
     ]
    }
   ],
   "source": [
    "lr_scores = cross_val_score(LogisticRegression(), x4, y, cv=10)\n",
    "rfc_scores = cross_val_score(RandomForestClassifier(), x4, y, cv=10)\n",
    "svc_scores = cross_val_score(SVC(), x4, y, cv=10)\n",
    "\n",
    "print(f\"\"\"\n",
    "Columns = {x4.columns}\n",
    "\n",
    "Logisctic regression scores:\n",
    "    {lr_scores}\n",
    "    Mean score: {lr_scores.mean()}\n",
    "\n",
    "Random forest classifier scores:\n",
    "    {rfc_scores}\n",
    "    Mean score: {rfc_scores.mean()}\n",
    "\n",
    "SVC scores:\n",
    "    {svc_scores}\n",
    "    Mean score: {svc_scores.mean()}\n",
    "\"\"\")"
   ]
  },
  {
   "cell_type": "code",
   "execution_count": 9,
   "metadata": {},
   "outputs": [
    {
     "name": "stdout",
     "output_type": "stream",
     "text": [
      "\n",
      "Columns = Index(['Pclass', 'Age_categorized', 'Sex_encoded'], dtype='object')\n",
      "\n",
      "Logisctic regression scores:\n",
      "    [0.77777778 0.78651685 0.79775281 0.83146067 0.80898876 0.79775281\n",
      " 0.7752809  0.76404494 0.79775281 0.7752809 ]\n",
      "    Mean score: 0.7912609238451935\n",
      "\n",
      "Random forest classifier scores:\n",
      "    [0.78888889 0.71910112 0.75280899 0.84269663 0.80898876 0.73033708\n",
      " 0.78651685 0.76404494 0.7752809  0.78651685]\n",
      "    Mean score: 0.775518102372035\n",
      "\n",
      "SVC scores:\n",
      "    [0.73333333 0.74157303 0.75280899 0.87640449 0.80898876 0.76404494\n",
      " 0.7752809  0.76404494 0.79775281 0.7752809 ]\n",
      "    Mean score: 0.7789513108614232\n",
      "\n"
     ]
    }
   ],
   "source": [
    "lr_scores = cross_val_score(LogisticRegression(), x5, y, cv=10)\n",
    "rfc_scores = cross_val_score(RandomForestClassifier(), x5, y, cv=10)\n",
    "svc_scores = cross_val_score(SVC(), x5, y, cv=10)\n",
    "\n",
    "print(f\"\"\"\n",
    "Columns = {x5.columns}\n",
    "\n",
    "Logisctic regression scores:\n",
    "    {lr_scores}\n",
    "    Mean score: {lr_scores.mean()}\n",
    "\n",
    "Random forest classifier scores:\n",
    "    {rfc_scores}\n",
    "    Mean score: {rfc_scores.mean()}\n",
    "\n",
    "SVC scores:\n",
    "    {svc_scores}\n",
    "    Mean score: {svc_scores.mean()}\n",
    "\"\"\")"
   ]
  },
  {
   "cell_type": "markdown",
   "metadata": {},
   "source": [
    "**SVC consistently scores above 0.8 and it scores the highest when using x1**"
   ]
  },
  {
   "cell_type": "code",
   "execution_count": 10,
   "metadata": {},
   "outputs": [],
   "source": [
    "x = x1"
   ]
  },
  {
   "cell_type": "markdown",
   "metadata": {},
   "source": [
    "# Train test split"
   ]
  },
  {
   "cell_type": "code",
   "execution_count": 11,
   "metadata": {},
   "outputs": [],
   "source": [
    "from sklearn.model_selection import train_test_split\n",
    "\n",
    "x_train, x_test, y_train, y_test = train_test_split(x, y, test_size=0.2, random_state=0)"
   ]
  },
  {
   "cell_type": "markdown",
   "metadata": {},
   "source": [
    "# Training"
   ]
  },
  {
   "cell_type": "code",
   "execution_count": 12,
   "metadata": {},
   "outputs": [],
   "source": [
    "model = SVC()\n",
    "model.fit(x_train, y_train)\n",
    "prediction = model.predict(x_test)"
   ]
  },
  {
   "cell_type": "markdown",
   "metadata": {},
   "source": [
    "# Score"
   ]
  },
  {
   "cell_type": "code",
   "execution_count": 13,
   "metadata": {},
   "outputs": [
    {
     "data": {
      "text/plain": [
       "0.8100558659217877"
      ]
     },
     "execution_count": 13,
     "metadata": {},
     "output_type": "execute_result"
    }
   ],
   "source": [
    "from sklearn.metrics import accuracy_score\n",
    "\n",
    "accuracy_score(y_test, prediction)"
   ]
  },
  {
   "cell_type": "code",
   "execution_count": 14,
   "metadata": {},
   "outputs": [
    {
     "data": {
      "text/plain": [
       "array([[96, 14],\n",
       "       [20, 49]])"
      ]
     },
     "execution_count": 14,
     "metadata": {},
     "output_type": "execute_result"
    }
   ],
   "source": [
    "from sklearn.metrics import confusion_matrix\n",
    "\n",
    "cf_mat = confusion_matrix(y_test, prediction)\n",
    "cf_mat"
   ]
  },
  {
   "cell_type": "code",
   "execution_count": 15,
   "metadata": {},
   "outputs": [
    {
     "data": {
      "text/plain": [
       "<AxesSubplot:>"
      ]
     },
     "execution_count": 15,
     "metadata": {},
     "output_type": "execute_result"
    },
    {
     "data": {
      "image/png": "[encoded data removed]",
      "text/plain": [
       "<Figure size 432x288 with 2 Axes>"
      ]
     },
     "metadata": {
      "needs_background": "light"
     },
     "output_type": "display_data"
    }
   ],
   "source": [
    "import seaborn as sns\n",
    "import numpy as np\n",
    "\n",
    "sns.heatmap(cf_mat/np.sum(cf_mat), annot=True, fmt='.2%')"
   ]
  },
  {
   "cell_type": "markdown",
   "metadata": {},
   "source": [
    "# Exporting the model"
   ]
  },
  {
   "cell_type": "code",
   "execution_count": 16,
   "metadata": {},
   "outputs": [],
   "source": [
    "import pickle as pkl\n",
    "\n",
    "pkl.dump(model, open(\"model.sav\", \"wb\"))"
   ]
  }
 ],
 "metadata": {
  "interpreter": {
   "hash": "e7370f93d1d0cde622a1f8e1c04877d8463912d04d973331ad4851f04de6915a"
  },
  "kernelspec": {
   "display_name": "Python 3.9.2 64-bit",
   "name": "python3"
  },
  "language_info": {
   "codemirror_mode": {
    "name": "ipython",
    "version": 3
   },
   "file_extension": ".py",
   "mimetype": "text/x-python",
   "name": "python",
   "nbconvert_exporter": "python",
   "pygments_lexer": "ipython3",
   "version": "3.9.2"
  },
  "orig_nbformat": 4
 },
 "nbformat": 4,
 "nbformat_minor": 2
}
